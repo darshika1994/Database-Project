{
 "cells": [
  {
   "cell_type": "markdown",
   "metadata": {},
   "source": [
    "# Database Project\n",
    "\n",
    "I will be analysing World Education Data.(https://ourworldindata.org/literacy)\n",
    "<br> Data is in the form of csv(http://training.digitalvidya.com/wp-content/uploads/2018/09/Dataset-Assignment-2.zip)\n",
    "<br> The data needs to be stored in the MySQL database using the procedure below.\n",
    "<br> After successfully storing the data, I will be analysing this data.\n",
    "\n",
    "Let's begin !"
   ]
  },
  {
   "cell_type": "markdown",
   "metadata": {},
   "source": [
    "### Database Creation"
   ]
  },
  {
   "cell_type": "code",
   "execution_count": 1,
   "metadata": {},
   "outputs": [],
   "source": [
    "import pymysql.cursors"
   ]
  },
  {
   "cell_type": "code",
   "execution_count": 2,
   "metadata": {},
   "outputs": [],
   "source": [
    "class connection:\n",
    "    def __init__(self, host, port, user, db):\n",
    "        self.host = host\n",
    "        self.port = port \n",
    "        self.user = user\n",
    "        self.db= db       \n",
    "        \n",
    "    def connect(self):\n",
    "        return pymysql.connect(host= self.host,\n",
    "                                 port = self.port, \n",
    "                                 user = self.user,\n",
    "                                 db= self.db)"
   ]
  },
  {
   "cell_type": "code",
   "execution_count": 3,
   "metadata": {},
   "outputs": [],
   "source": [
    "c = connection('localhost', 3306,  'root', 'literacy database')"
   ]
  },
  {
   "cell_type": "code",
   "execution_count": 4,
   "metadata": {},
   "outputs": [
    {
     "data": {
      "text/plain": [
       "<__main__.connection at 0x21553ab8ec8>"
      ]
     },
     "execution_count": 4,
     "metadata": {},
     "output_type": "execute_result"
    }
   ],
   "source": [
    "c"
   ]
  },
  {
   "cell_type": "code",
   "execution_count": 5,
   "metadata": {},
   "outputs": [],
   "source": [
    "def execute(c, sqlQuery):\n",
    "    conn = c.connect()\n",
    "    try :\n",
    "        with conn.cursor() as cursor:\n",
    "\n",
    "            cursor.execute(sqlQuery)\n",
    "\n",
    "        conn.commit()\n",
    "    \n",
    "    finally:\n",
    "        print(\"connection closed\")\n",
    "        conn.close()"
   ]
  },
  {
   "cell_type": "markdown",
   "metadata": {},
   "source": [
    "### Create Table"
   ]
  },
  {
   "cell_type": "code",
   "execution_count": 24,
   "metadata": {},
   "outputs": [],
   "source": [
    "def execute_with_parameters(c, sql, subtitute_values, numberOfRows = 5):\n",
    "    conn = c.connect()\n",
    "    \n",
    "    try:\n",
    "        with conn.cursor() as cursor:\n",
    "            \n",
    "            cursor.execute(sql, subtitute_values)\n",
    "            rows = cursor.fetchall()\n",
    "\n",
    "            counter = 0\n",
    "            for row in rows:\n",
    "                \n",
    "                counter += 1\n",
    "                \n",
    "                print(row)\n",
    "                \n",
    "                if counter == numberOfRows:\n",
    "                    break\n",
    "                    \n",
    "                # conn is not autocommit by default. So you must commit to save\n",
    "                # your changes.\n",
    "        conn.commit()\n",
    "\n",
    "    finally:\n",
    "        print(\"conn closed\")\n",
    "        conn.close()"
   ]
  },
  {
   "cell_type": "code",
   "execution_count": 25,
   "metadata": {},
   "outputs": [],
   "source": [
    "def convert_column_list(columnlist):\n",
    "    s1 = ','.join(['`'+str(i)+'`' for i in columnlist]) \n",
    "    s2 = ','.join(['%s' for _ in columnlist]) \n",
    "    \n",
    "    return s1,s2"
   ]
  },
  {
   "cell_type": "code",
   "execution_count": 26,
   "metadata": {},
   "outputs": [],
   "source": [
    "def showTables(c):\n",
    "    conn = c.connect()\n",
    "    try:   \n",
    "        with conn.cursor() as cursor:\n",
    "\n",
    "            # SQL query string\n",
    "\n",
    "            sqlQuery   = \"show tables\"   \n",
    "\n",
    "            # Execute the sqlQuery\n",
    "\n",
    "            cursor.execute(sqlQuery)\n",
    "\n",
    "            rows = cursor.fetchall()\n",
    "\n",
    "            for row in rows:\n",
    "\n",
    "                print(row)\n",
    "\n",
    "                # conn is not autocommit by default. So you must commit to save\n",
    "                # your changes.\n",
    "\n",
    "    finally:\n",
    "        print(\"connection closed\")\n",
    "        conn.close()"
   ]
  },
  {
   "cell_type": "code",
   "execution_count": 27,
   "metadata": {},
   "outputs": [
    {
     "name": "stdout",
     "output_type": "stream",
     "text": [
      "('dataset- assignment - 1',)\n",
      "('literacy_dataset',)\n",
      "connection closed\n"
     ]
    }
   ],
   "source": [
    "showTables(c)"
   ]
  },
  {
   "cell_type": "code",
   "execution_count": 28,
   "metadata": {},
   "outputs": [],
   "source": [
    "def insert(c, tablename, columns, values,subtitute_values):\n",
    "    conn = c.connect()\n",
    "    try:\n",
    "        with conn.cursor() as cursor:\n",
    "            \n",
    "            # SQL query string\n",
    "            sql = \"INSERT INTO `\"+ tablename + \"` (\" + columns + \" ) \" + \" VALUES \" + \"(\" + values + \");\"\n",
    "            print(sql) \n",
    "            print(subtitute_values)\n",
    "            cursor.execute(sql, subtitute_values)\n",
    "        conn.commit()\n",
    "\n",
    "    finally:\n",
    "        print(\"conn closed\")\n",
    "        conn.close()"
   ]
  },
  {
   "cell_type": "markdown",
   "metadata": {},
   "source": [
    "Try inserting a row to test the insert() function."
   ]
  },
  {
   "cell_type": "code",
   "execution_count": 29,
   "metadata": {},
   "outputs": [],
   "source": [
    "columns = ['entity','code','year','Elderly literacy rate','Youth literacy rate', 'Total population']\n",
    "x = ('Afghanistan','AFG',1800,0,0,3280000)"
   ]
  },
  {
   "cell_type": "code",
   "execution_count": 30,
   "metadata": {},
   "outputs": [
    {
     "name": "stdout",
     "output_type": "stream",
     "text": [
      "INSERT INTO `literacy_dataset` (`entity`,`code`,`year`,`Elderly literacy rate`,`Youth literacy rate`,`Total population` )  VALUES (%s,%s,%s,%s,%s,%s);\n",
      "('Afghanistan', 'AFG', 1800, 0, 0, 3280000)\n",
      "conn closed\n"
     ]
    }
   ],
   "source": [
    "columns,values = convert_column_list(columns)\n",
    "insert(c,\"literacy_dataset\",columns,values,x)"
   ]
  },
  {
   "cell_type": "code",
   "execution_count": 31,
   "metadata": {},
   "outputs": [],
   "source": [
    "def showContents(c,sql, numberOfRows = 5):\n",
    "    conn = c.connect()\n",
    "    try:   \n",
    "        with conn.cursor() as cursor: \n",
    "\n",
    "            # Execute the sqlQuery\n",
    "            \n",
    "            cursor.execute(sql)\n",
    "\n",
    "            rows = cursor.fetchall()\n",
    "\n",
    "            counter = 0\n",
    "            for row in rows:\n",
    "                \n",
    "                counter += 1\n",
    "                \n",
    "                print(row)\n",
    "                \n",
    "                if counter == numberOfRows:\n",
    "                    break\n",
    "                    \n",
    "                # conn is not autocommit by default. So you must commit to save\n",
    "                # your changes.\n",
    "\n",
    "    finally:\n",
    "        print(\"conn closed\")\n",
    "        conn.close()"
   ]
  },
  {
   "cell_type": "code",
   "execution_count": 32,
   "metadata": {},
   "outputs": [
    {
     "name": "stdout",
     "output_type": "stream",
     "text": [
      "('Afghanistan', 'AFG', 1800, Decimal('0.00000'), Decimal('0.00000'), 3280000)\n",
      "('Afghanistan', 'AFG', 1820, Decimal('0.00000'), Decimal('0.00000'), 3280000)\n",
      "('Afghanistan', 'AFG', 1870, Decimal('0.00000'), Decimal('0.00000'), 4207000)\n",
      "('Afghanistan', 'AFG', 1913, Decimal('0.00000'), Decimal('0.00000'), 5730000)\n",
      "('Afghanistan', 'AFG', 1950, Decimal('0.00000'), Decimal('0.00000'), 8151455)\n",
      "conn closed\n"
     ]
    }
   ],
   "source": [
    "sql = \"Select * from literacy_dataset\"\n",
    "\n",
    "showContents(c, sql)"
   ]
  },
  {
   "cell_type": "markdown",
   "metadata": {},
   "source": [
    "### Load data from csv to database"
   ]
  },
  {
   "cell_type": "code",
   "execution_count": 33,
   "metadata": {},
   "outputs": [],
   "source": [
    "import csv\n",
    "\n",
    "def csvToDB(c,csv_name,columns,tablename):\n",
    "    with open(csv_name) as csv_file:\n",
    "        csv_reader = csv.reader(csv_file, delimiter=',')\n",
    "        columns,values = convert_column_list(columns)\n",
    "\n",
    "        line_count = 0\n",
    "        for row in csv_reader:\n",
    "            if line_count == 0:\n",
    "                print(row)\n",
    "                line_count += 1\n",
    "            else:\n",
    "                conn = c.connect()\n",
    "                insert(conn,tablename,columns,values,row)\n",
    "                line_count += 1\n",
    "        print(f'Inserted {line_count} lines.')"
   ]
  },
  {
   "cell_type": "code",
   "execution_count": 34,
   "metadata": {
    "collapsed": true
   },
   "outputs": [
    {
     "name": "stdout",
     "output_type": "stream",
     "text": [
      "['Entity', 'Code', 'Year', 'Elderly literacy rate, population 65+ years, both sexes (%) (%)', 'Youth literacy rate, population 15-24 years, both sexes (%) (%)', 'Total population (Gapminder)']\n",
      "conn closed\n"
     ]
    },
    {
     "ename": "AttributeError",
     "evalue": "'NoneType' object has no attribute 'close'",
     "output_type": "error",
     "traceback": [
      "\u001b[1;31m---------------------------------------------------------------------------\u001b[0m",
      "\u001b[1;31mAttributeError\u001b[0m                            Traceback (most recent call last)",
      "\u001b[1;32m<ipython-input-28-8052539ecea9>\u001b[0m in \u001b[0;36minsert\u001b[1;34m(c, tablename, columns, values, subtitute_values)\u001b[0m\n\u001b[0;32m      3\u001b[0m     \u001b[1;32mtry\u001b[0m\u001b[1;33m:\u001b[0m\u001b[1;33m\u001b[0m\u001b[1;33m\u001b[0m\u001b[0m\n\u001b[1;32m----> 4\u001b[1;33m         \u001b[1;32mwith\u001b[0m \u001b[0mconn\u001b[0m\u001b[1;33m.\u001b[0m\u001b[0mcursor\u001b[0m\u001b[1;33m(\u001b[0m\u001b[1;33m)\u001b[0m \u001b[1;32mas\u001b[0m \u001b[0mcursor\u001b[0m\u001b[1;33m:\u001b[0m\u001b[1;33m\u001b[0m\u001b[1;33m\u001b[0m\u001b[0m\n\u001b[0m\u001b[0;32m      5\u001b[0m \u001b[1;33m\u001b[0m\u001b[0m\n",
      "\u001b[1;31mAttributeError\u001b[0m: 'NoneType' object has no attribute 'cursor'",
      "\nDuring handling of the above exception, another exception occurred:\n",
      "\u001b[1;31mAttributeError\u001b[0m                            Traceback (most recent call last)",
      "\u001b[1;32m<ipython-input-34-d1da84362337>\u001b[0m in \u001b[0;36m<module>\u001b[1;34m\u001b[0m\n\u001b[0;32m      1\u001b[0m \u001b[1;31m## START CODE HERE\u001b[0m\u001b[1;33m\u001b[0m\u001b[1;33m\u001b[0m\u001b[1;33m\u001b[0m\u001b[0m\n\u001b[1;32m----> 2\u001b[1;33m \u001b[0mcsvToDB\u001b[0m\u001b[1;33m(\u001b[0m\u001b[0mc\u001b[0m\u001b[1;33m,\u001b[0m \u001b[1;34mr\"C:\\Users\\sanjay\\Desktop\\Python\\Dataset- Assignment - 1.csv\"\u001b[0m\u001b[1;33m,\u001b[0m\u001b[0mcolumns\u001b[0m\u001b[1;33m,\u001b[0m\u001b[1;34m'literacy_dataset'\u001b[0m\u001b[1;33m)\u001b[0m\u001b[1;33m\u001b[0m\u001b[1;33m\u001b[0m\u001b[0m\n\u001b[0m\u001b[0;32m      3\u001b[0m \u001b[1;31m## END CODE HERE\u001b[0m\u001b[1;33m\u001b[0m\u001b[1;33m\u001b[0m\u001b[1;33m\u001b[0m\u001b[0m\n",
      "\u001b[1;32m<ipython-input-33-18677f76a1b9>\u001b[0m in \u001b[0;36mcsvToDB\u001b[1;34m(c, csv_name, columns, tablename)\u001b[0m\n\u001b[0;32m     13\u001b[0m             \u001b[1;32melse\u001b[0m\u001b[1;33m:\u001b[0m\u001b[1;33m\u001b[0m\u001b[1;33m\u001b[0m\u001b[0m\n\u001b[0;32m     14\u001b[0m                 \u001b[0mconn\u001b[0m \u001b[1;33m=\u001b[0m \u001b[0mc\u001b[0m\u001b[1;33m.\u001b[0m\u001b[0mconnect\u001b[0m\u001b[1;33m(\u001b[0m\u001b[1;33m)\u001b[0m\u001b[1;33m\u001b[0m\u001b[1;33m\u001b[0m\u001b[0m\n\u001b[1;32m---> 15\u001b[1;33m                 \u001b[0minsert\u001b[0m\u001b[1;33m(\u001b[0m\u001b[0mconn\u001b[0m\u001b[1;33m,\u001b[0m\u001b[0mtablename\u001b[0m\u001b[1;33m,\u001b[0m\u001b[0mcolumns\u001b[0m\u001b[1;33m,\u001b[0m\u001b[0mvalues\u001b[0m\u001b[1;33m,\u001b[0m\u001b[0mrow\u001b[0m\u001b[1;33m)\u001b[0m\u001b[1;33m\u001b[0m\u001b[1;33m\u001b[0m\u001b[0m\n\u001b[0m\u001b[0;32m     16\u001b[0m                 \u001b[0mline_count\u001b[0m \u001b[1;33m+=\u001b[0m \u001b[1;36m1\u001b[0m\u001b[1;33m\u001b[0m\u001b[1;33m\u001b[0m\u001b[0m\n\u001b[0;32m     17\u001b[0m         \u001b[0mprint\u001b[0m\u001b[1;33m(\u001b[0m\u001b[1;34mf'Inserted {line_count} lines.'\u001b[0m\u001b[1;33m)\u001b[0m\u001b[1;33m\u001b[0m\u001b[1;33m\u001b[0m\u001b[0m\n",
      "\u001b[1;32m<ipython-input-28-8052539ecea9>\u001b[0m in \u001b[0;36minsert\u001b[1;34m(c, tablename, columns, values, subtitute_values)\u001b[0m\n\u001b[0;32m     13\u001b[0m     \u001b[1;32mfinally\u001b[0m\u001b[1;33m:\u001b[0m\u001b[1;33m\u001b[0m\u001b[1;33m\u001b[0m\u001b[0m\n\u001b[0;32m     14\u001b[0m         \u001b[0mprint\u001b[0m\u001b[1;33m(\u001b[0m\u001b[1;34m\"conn closed\"\u001b[0m\u001b[1;33m)\u001b[0m\u001b[1;33m\u001b[0m\u001b[1;33m\u001b[0m\u001b[0m\n\u001b[1;32m---> 15\u001b[1;33m         \u001b[0mconn\u001b[0m\u001b[1;33m.\u001b[0m\u001b[0mclose\u001b[0m\u001b[1;33m(\u001b[0m\u001b[1;33m)\u001b[0m\u001b[1;33m\u001b[0m\u001b[1;33m\u001b[0m\u001b[0m\n\u001b[0m",
      "\u001b[1;31mAttributeError\u001b[0m: 'NoneType' object has no attribute 'close'"
     ]
    }
   ],
   "source": [
    "## START CODE HERE\n",
    "csvToDB(c, r\"C:\\Users\\sanjay\\Desktop\\Python\\Dataset- Assignment - 1.csv\",columns,'literacy_dataset')\n",
    "## END CODE HERE"
   ]
  },
  {
   "cell_type": "markdown",
   "metadata": {},
   "source": [
    "In the above cell you will get warning, ignore it after calling csvToDB().\n",
    "<br> The warning appears because the value for 'Elderly literacy rate, population 65+ years, both sexes' and 'Youth literacy rate, population 15-24 years, both sexes' is missing in many rows."
   ]
  },
  {
   "cell_type": "code",
   "execution_count": 35,
   "metadata": {
    "scrolled": true
   },
   "outputs": [
    {
     "name": "stdout",
     "output_type": "stream",
     "text": [
      "('Afghanistan', 'AFG', 1800, Decimal('0.00000'), Decimal('0.00000'), 3280000)\n",
      "('Afghanistan', 'AFG', 1820, Decimal('0.00000'), Decimal('0.00000'), 3280000)\n",
      "('Afghanistan', 'AFG', 1870, Decimal('0.00000'), Decimal('0.00000'), 4207000)\n",
      "('Afghanistan', 'AFG', 1913, Decimal('0.00000'), Decimal('0.00000'), 5730000)\n",
      "('Afghanistan', 'AFG', 1950, Decimal('0.00000'), Decimal('0.00000'), 8151455)\n",
      "conn closed\n"
     ]
    }
   ],
   "source": [
    "sql = '''Select * from literacy_dataset'''\n",
    "showContents(c, sql)"
   ]
  },
  {
   "cell_type": "markdown",
   "metadata": {},
   "source": [
    "Wherever you can see Decimal('0E-10') those are null values.\n",
    "<br>Now that the csv is converted to Database you can test your knowledge of using SQL commands to fetch data."
   ]
  },
  {
   "cell_type": "markdown",
   "metadata": {},
   "source": [
    "## What is the youth literacy rate of different countries during 1913?"
   ]
  },
  {
   "cell_type": "code",
   "execution_count": 66,
   "metadata": {},
   "outputs": [
    {
     "name": "stdout",
     "output_type": "stream",
     "text": [
      "('Afghanistan', Decimal('0.00000'))\n",
      "('Afghanistan', Decimal('0.00000'))\n",
      "('Albania', Decimal('0.00000'))\n",
      "('Algeria', Decimal('0.00000'))\n",
      "('Argentina', Decimal('0.00000'))\n",
      "conn closed\n"
     ]
    }
   ],
   "source": [
    "## START CODE HERE\n",
    "sql = '''select `entity`,`Youth Literacy Rate` from literacy_dataset where `year` = 1913;'''\n",
    "showContents(c, sql)\n",
    "## END CODE HERE"
   ]
  },
  {
   "cell_type": "markdown",
   "metadata": {},
   "source": [
    "<table>\n",
    "  <tr>\n",
    "  <td>**Expected Output:**<td>\n",
    "    <td style=\"text-align:left\">\n",
    "('Afghanistan', Decimal('0E-10'))\n",
    "<br>('Albania', Decimal('0E-10'))\n",
    "<br>('Algeria', Decimal('0E-10'))\n",
    "<br>('Argentina', Decimal('0E-10'))\n",
    "<br>('Australia', Decimal('0E-10'))\n",
    "<br>conn closed</td>\n",
    "  </tr>\n",
    "</table>\n"
   ]
  },
  {
   "cell_type": "markdown",
   "metadata": {},
   "source": [
    "### Which country has the highest elderly literacy rate during 2015?"
   ]
  },
  {
   "cell_type": "code",
   "execution_count": 64,
   "metadata": {},
   "outputs": [
    {
     "name": "stdout",
     "output_type": "stream",
     "text": [
      "('North Korea', Decimal('99.99609'))\n",
      "conn closed\n"
     ]
    }
   ],
   "source": [
    "## START CODE HERE\n",
    "sql = '''SELECT `entity`,`elderly literacy rate` FROM literacy_dataset \n",
    "where `Year` = 2015 \n",
    "order by `elderly literacy rate` DESC LIMIT 1;'''\n",
    "showContents(c,sql)\n",
    "## END CODE HERE"
   ]
  },
  {
   "cell_type": "markdown",
   "metadata": {},
   "source": [
    "<table>\n",
    "  <tr>\n",
    "  <td>**Expected Output:**<td>\n",
    "    <td style=\"text-align:left\">\n",
    "('North Korea', Decimal('99.9960937500'))\n",
    "<br> conn closed\n",
    "</td>\n",
    "  </tr>\n",
    "</table>"
   ]
  },
  {
   "cell_type": "markdown",
   "metadata": {},
   "source": [
    "### Which country has highest population?"
   ]
  },
  {
   "cell_type": "code",
   "execution_count": 65,
   "metadata": {},
   "outputs": [
    {
     "name": "stdout",
     "output_type": "stream",
     "text": [
      "('China', 1359368470)\n",
      "conn closed\n"
     ]
    }
   ],
   "source": [
    "## START CODE HERE\n",
    "sql = '''select `entity`,`Total Population` from literacy_dataset order by `Total Population` DESC LIMIT 1;'''\n",
    "showContents(c,sql)\n",
    "## END CODE HERE"
   ]
  },
  {
   "cell_type": "markdown",
   "metadata": {},
   "source": [
    "<table>\n",
    "  <tr>\n",
    "  <td>**Expected Output:**<td>\n",
    "    <td style=\"text-align:left\">\n",
    "('China', 1359368470)\n",
    "<br>conn closed\n",
    "</td>\n",
    "  </tr>\n",
    "</table>"
   ]
  },
  {
   "cell_type": "markdown",
   "metadata": {},
   "source": [
    "### For each year which were the highest populated countries and what was their elderly and youth literacy rates?"
   ]
  },
  {
   "cell_type": "code",
   "execution_count": 58,
   "metadata": {},
   "outputs": [
    {
     "name": "stdout",
     "output_type": "stream",
     "text": [
      "(2009, 30577756, Decimal('0.00000'), Decimal('0.00000'))\n",
      "(2010, 31411743, Decimal('0.00000'), Decimal('0.00000'))\n",
      "(2011, 32358260, Decimal('20.32185'), Decimal('46.99005'))\n",
      "(2012, 33397058, Decimal('0.00000'), Decimal('0.00000'))\n",
      "(2013, 34499915, Decimal('0.00000'), Decimal('0.00000'))\n",
      "conn closed\n"
     ]
    }
   ],
   "source": [
    "## START CODE HERE\n",
    "sql ='''select `year`,`Total Population`,`Elderly Literacy Rate`,\n",
    "`Youth Literacy Rate` from literacy_dataset \n",
    "where `year` in (2013,2012,2011,2010,2009)\n",
    "group by `year`;'''\n",
    "showContents(c,sql)\n",
    "## END CODE HERE"
   ]
  },
  {
   "cell_type": "markdown",
   "metadata": {},
   "source": [
    "<table>\n",
    "  <tr>\n",
    "  <td>**Expected Output:**<td>\n",
    "    <td style=\"text-align:left\">\n",
    "(2013, Decimal('0E-10'), Decimal('0E-10'), 34499915)\n",
    "<br>(2012, Decimal('0E-10'), Decimal('0E-10'), 33397058)\n",
    "<br>(2011, Decimal('20.3218498230'), Decimal('46.9900512695'), 32358260)\n",
    "<br>(2010, Decimal('0E-10'), Decimal('0E-10'), 31411743)\n",
    "<br>(2009, Decimal('0E-10'), Decimal('0E-10'), 30577756)\n",
    "<br> conn closed\n",
    "</td>\n",
    "  </tr>\n",
    "</table>"
   ]
  },
  {
   "cell_type": "markdown",
   "metadata": {},
   "source": [
    "### Show records of BRICS (Brazil, Russia, India, China,South Africa) countries only "
   ]
  },
  {
   "cell_type": "code",
   "execution_count": 40,
   "metadata": {},
   "outputs": [
    {
     "name": "stdout",
     "output_type": "stream",
     "text": [
      "('Brazil', 'BRA', 1700, Decimal('0.00000'), Decimal('0.00000'), 1250000)\n",
      "('Brazil', 'BRA', 1800, Decimal('0.00000'), Decimal('0.00000'), 3639636)\n",
      "('Brazil', 'BRA', 1820, Decimal('0.00000'), Decimal('0.00000'), 4507000)\n",
      "('Brazil', 'BRA', 1850, Decimal('0.00000'), Decimal('0.00000'), 7234000)\n",
      "('Brazil', 'BRA', 1870, Decimal('0.00000'), Decimal('0.00000'), 9797000)\n",
      "conn closed\n"
     ]
    }
   ],
   "source": [
    "## START CODE HERE\n",
    "sql = \"select * from literacy_dataset where `entity` = 'Brazil' or `entity` = 'Russia' or `entity` = 'India' or `entity` = 'China' or `entity` = 'South Africa';\"\n",
    "showContents(c,sql)\n",
    "## END CODE HERE"
   ]
  },
  {
   "cell_type": "markdown",
   "metadata": {},
   "source": [
    "<table>\n",
    "  <tr>\n",
    "  <td>**Expected Output:**<td>\n",
    "    <td style=\"text-align:left\">\n",
    "('Brazil', 'BRA', 1700, Decimal('0E-10'), Decimal('0E-10'), 1250000)\n",
    "<br>('Brazil', 'BRA', 1800, Decimal('0E-10'), Decimal('0E-10'), 3639636)\n",
    "<br>('Brazil', 'BRA', 1820, Decimal('0E-10'), Decimal('0E-10'), 4507000)\n",
    "<br>('Brazil', 'BRA', 1850, Decimal('0E-10'), Decimal('0E-10'), 7234000)\n",
    "<br>('Brazil', 'BRA', 1870, Decimal('0E-10'), Decimal('0E-10'), 9797000)\n",
    "<br>('Brazil', 'BRA', 1871, Decimal('0E-10'), Decimal('0E-10'), 9980000)\n",
    "<br>('Brazil', 'BRA', 1872, Decimal('0E-10'), Decimal('0E-10'), 10167000)\n",
    "<br>('Brazil', 'BRA', 1873, Decimal('0E-10'), Decimal('0E-10'), 10358000)\n",
    "<br>('Brazil', 'BRA', 1874, Decimal('0E-10'), Decimal('0E-10'), 10552000)\n",
    "<br>('Brazil', 'BRA', 1875, Decimal('0E-10'), Decimal('0E-10'), 10749000)\n",
    "<br> conn closed\n",
    "</td>\n",
    "  </tr>\n",
    "</table>"
   ]
  },
  {
   "cell_type": "markdown",
   "metadata": {},
   "source": [
    "### What is the highest elderly literacy rate of each of the BRICS countries?"
   ]
  },
  {
   "cell_type": "code",
   "execution_count": 54,
   "metadata": {
    "scrolled": true
   },
   "outputs": [
    {
     "name": "stdout",
     "output_type": "stream",
     "text": [
      "('Brazil', Decimal('74.19575'))\n",
      "('China', Decimal('81.28252'))\n",
      "('India', Decimal('42.70036'))\n",
      "('Russia', Decimal('99.47242'))\n",
      "('South Africa', Decimal('71.25617'))\n",
      "conn closed\n"
     ]
    }
   ],
   "source": [
    "## START CODE HERE\n",
    "sql = '''select `entity`,max(`Elderly Literacy Rate`) from literacy_dataset where `entity` = 'Brazil' or `entity` = 'Russia' or `entity` = 'India' or `entity` = 'China' or `entity` = 'South Africa' group by `entity`;'''\n",
    "showContents(c,sql)\n",
    "## END CODE HERE"
   ]
  },
  {
   "cell_type": "markdown",
   "metadata": {},
   "source": [
    "<table>\n",
    "  <tr>\n",
    "  <td>**Expected Output:**<td>\n",
    "    <td style=\"text-align:left\">\n",
    "('Brazil', Decimal('74.1957473755'))\n",
    "<br>('China', Decimal('81.2825164795'))\n",
    "<br>('India', Decimal('42.7003593445'))\n",
    "<br>('Russia', Decimal('99.4724197388'))\n",
    "<br>('South Africa', Decimal('71.2561721802'))\n",
    "<br> conn closed\n",
    "</td>\n",
    "  </tr>\n",
    "</table>"
   ]
  },
  {
   "cell_type": "markdown",
   "metadata": {},
   "source": [
    "### What is the highest youth literacy rate of each of the BRICS countries?"
   ]
  },
  {
   "cell_type": "code",
   "execution_count": 56,
   "metadata": {},
   "outputs": [
    {
     "name": "stdout",
     "output_type": "stream",
     "text": [
      "('Brazil', Decimal('98.93239'))\n",
      "('China', Decimal('99.72886'))\n",
      "('India', Decimal('89.66406'))\n",
      "('Russia', Decimal('99.72460'))\n",
      "('South Africa', Decimal('99.02700'))\n",
      "conn closed\n"
     ]
    }
   ],
   "source": [
    "## START CODE HERE\n",
    "sql = '''select `entity`,max(`Youth Literacy Rate`) from literacy_dataset where `entity` in ('Brazil','Russia','India','China','South Africa')group by `entity`;'''\n",
    "showContents(c,sql)\n",
    "## END CODE HERE"
   ]
  },
  {
   "cell_type": "markdown",
   "metadata": {},
   "source": [
    "<table>\n",
    "  <tr>\n",
    "  <td>**Expected Output:**<td>\n",
    "    <td style=\"text-align:left\">\n",
    "('Brazil', Decimal('98.9323883057'))\n",
    "<br>('China', Decimal('99.7288589478'))\n",
    "<br>('India', Decimal('89.6640625000'))\n",
    "<br>('Russia', Decimal('99.7246017456'))\n",
    "<br>('South Africa', Decimal('99.0270004272'))\n",
    "<br> conn closed\n",
    "</td>\n",
    "  </tr>\n",
    "</table>"
   ]
  }
 ],
 "metadata": {
  "kernelspec": {
   "display_name": "Python 3",
   "language": "python",
   "name": "python3"
  },
  "language_info": {
   "codemirror_mode": {
    "name": "ipython",
    "version": 3
   },
   "file_extension": ".py",
   "mimetype": "text/x-python",
   "name": "python",
   "nbconvert_exporter": "python",
   "pygments_lexer": "ipython3",
   "version": "3.7.6"
  }
 },
 "nbformat": 4,
 "nbformat_minor": 2
}
